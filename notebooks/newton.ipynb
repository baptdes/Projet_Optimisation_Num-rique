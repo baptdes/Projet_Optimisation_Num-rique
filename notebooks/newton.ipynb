{
 "cells": [
  {
   "cell_type": "markdown",
   "metadata": {},
   "source": [
    "<center>\n",
    "<h1> TP-Projet d'optimisation numérique </h1>\n",
    "<h1> Algorithme de Newton </h1>\n",
    "</center>"
   ]
  },
  {
   "cell_type": "markdown",
   "metadata": {},
   "source": [
    "## Implémentation \n",
    " \n",
    "1. Coder l’algorithme de Newton dans le fichier `src/newton.jl` en respectant la spécification donnée dans ce même fichier ;\n",
    "2. Exécuter les tests ci-dessous et vérifier qu'ils passent.\n",
    "\n",
    "Pour les tests, nous avons défini les fonctions suivantes $f_1 \\colon \\mathbb{R}^3 \\to \\mathbb{R}$\n",
    "et $f_2 \\colon \\mathbb{R}^2 \\to \\mathbb{R}$.\n",
    "\n",
    "$$\n",
    "    f_{1}(x_1, x_2, x_3) = 2 (x_1 +x_2 + x_3 -3)^2 + (x_1-x_2)^2 + (x_2 - x_3)^2\n",
    "$$\n",
    "et\n",
    "$$\n",
    "    f_{2}(x_1,x_2) = 100(x_2-x_1^2)^2 + (1-x_1)^2.\n",
    "$$\n",
    "\n",
    "**Remarque.** On peut retrouver ces fonctions dans le fichier `test/fonctions_de_tests.jl`."
   ]
  },
  {
   "cell_type": "code",
   "execution_count": 2,
   "metadata": {},
   "outputs": [
    {
     "name": "stdout",
     "output_type": "stream",
     "text": [
      "Affichage des résultats des algorithmes : false\n",
      "\n",
      "\u001b[0m\u001b[1mTest Summary:        | \u001b[22m\u001b[32m\u001b[1mPass  \u001b[22m\u001b[39m\u001b[36m\u001b[1mTotal  \u001b[22m\u001b[39m\u001b[0m\u001b[1mTime\u001b[22m\n",
      "algorithme de Newton | \u001b[32m  19  \u001b[39m\u001b[36m   19  \u001b[39m\u001b[0m4.7s\n"
     ]
    }
   ],
   "source": [
    "include(\"../src/newton.jl\")         # votre algorithme de Newton\n",
    "include(\"../test/tester_newton.jl\") # la fonction pour tester votre algorithme de Newton\n",
    "\n",
    "#\n",
    "afficher = false # si true, alors affiche les résultats des algorithmes\n",
    "\n",
    "#\n",
    "tester_newton(newton, afficher); # tester l'algorithme de Newton"
   ]
  },
  {
   "cell_type": "code",
   "execution_count": 3,
   "metadata": {},
   "outputs": [
    {
     "name": "stdout",
     "output_type": "stream",
     "text": [
      "-------------------------------------------------------------------------\n",
      "\u001b[34m\u001b[1mRésultats de : Newton appliqué à f0:\u001b[22m\u001b[39m\n",
      "  * x0       = -1.5707963267948966\n",
      "  * x_sol    = -1.5707963267948966\n",
      "  * f(x_sol) = -1.0\n",
      "  * nb_iters = 0\n",
      "  * flag     = 0\n",
      "  * solution = -1.5707963267948966\n",
      "-------------------------------------------------------------------------\n",
      "\u001b[34m\u001b[1mRésultats de : Newton appliqué à f0:\u001b[22m\u001b[39m\n",
      "  * x0       = -1.0707963267948966\n",
      "  * x_sol    = -1.5707963267949088\n",
      "  * f(x_sol) = -1.0\n",
      "  * nb_iters = 3\n",
      "  * flag     = 0\n",
      "  * solution = -1.5707963267948966\n",
      "-------------------------------------------------------------------------\n",
      "\u001b[34m\u001b[1mRésultats de : Newton appliqué à f0:\u001b[22m\u001b[39m\n",
      "  * x0       = 1.5707963267948966\n",
      "  * x_sol    = 1.5707963267948966\n",
      "  * f(x_sol) = 1.0\n",
      "  * nb_iters = 0\n",
      "  * flag     = 0\n",
      "  * solution = -1.5707963267948966\n"
     ]
    }
   ],
   "source": [
    "include(\"../src/newton.jl\") # votre algorithme de Newton\n",
    "include(\"../test/fonctions_de_tests.jl\") # pour avoir la fonction d'affichage des résultats\n",
    "\n",
    "# Fonction f0\n",
    "# -----------\n",
    "f0(x)      =  sin(x)\n",
    "grad_f0(x) =  cos(x) # la gradient de la fonction f0\n",
    "hess_f0(x) = -sin(x) # la hessienne de la fonction f0\n",
    "solution   = -pi/2\n",
    "\n",
    "x0 = solution\n",
    "x_sol, f_sol, flag, nb_iters = newton(f0, grad_f0, hess_f0, x0)\n",
    "afficher_resultats(\"Newton\", \"f0\", x0, x_sol, f_sol, flag, nb_iters, solution)\n",
    "\n",
    "x0 = -pi/2+0.5\n",
    "x_sol, f_sol, flag, nb_iters = newton(f0, grad_f0, hess_f0, x0)\n",
    "afficher_resultats(\"Newton\", \"f0\", x0, x_sol, f_sol, flag, nb_iters, solution)\n",
    "\n",
    "x0 = pi/2\n",
    "x_sol, f_sol, flag, nb_iters = newton(f0, grad_f0, hess_f0, x0)\n",
    "afficher_resultats(\"Newton\", \"f0\", x0, x_sol, f_sol, flag, nb_iters, solution)\n"
   ]
  },
  {
   "cell_type": "markdown",
   "metadata": {},
   "source": [
    "## Interprétation \n",
    "\n",
    "1. Justifier les résultats obtenus pour l'exemple $f_0$ ci-dessus :\n",
    "\n",
    "- Pour $x_0 = -\\frac{\\pi}{2}$, l'algorithme converge immédiatement en une itération car on est directement sur un point critique. ($\\cos\\left(-\\frac{\\pi}{2}\\right) = 0$)\n",
    "- Pour $x_0 = -\\frac{\\pi}{2}+0.5$, on reste proche du point critique précédent. Ainsi, seules trois itérations suffisent pour arriver sur une solution.\n",
    "- Pour $x_0 = \\frac{\\pi}{2}$, la méthode converge immédiatement en une itération vers la solution exacte, car on est directement sur un point critique de $f_0$. ($\\cos\\left(\\frac{\\pi}{2}\\right) = 0$)\n",
    "\n",
    "2. Justifier que l’algorithme implémenté converge en une itération pour $f_1$ :\n",
    "\n",
    "La fonction étant quadratique, elle correspond à son développement de Taylor au second ordre. Par conséquent, la solution peut être trouvée directement.\n",
    "\n",
    "3. Justifier que l’algorithme puisse ne pas converger pour $f_2$ avec certains points initiaux :\n",
    "\n",
    "Selon les points, la fonction $f_2$ peut être convexe ou concave (la hessienne de $f_2$ est mal conditionnée), ce qui peut entraîner une non-convergence avec l'approximation de l'extrémum de la fonction par son développement de Taylor au second ordre, qui dirigerait la fonction vers un minimum dans la direction opposée. Dans d'autres cas, il peut y avoir convergence, mais vers un minimum local plutôt que global. Cette fonction est connue sous le nom de fonction de Rosenbrock.\n",
    "\n",
    "**Remarque.** Vous pouvez mettre `affiche=true` dans les tests de l'algorithme de Newton pour\n",
    "vous aider.\n"
   ]
  }
 ],
 "metadata": {
  "kernelspec": {
   "display_name": "Julia 1.11.1",
   "language": "julia",
   "name": "julia-1.11"
  },
  "language_info": {
   "file_extension": ".jl",
   "mimetype": "application/julia",
   "name": "julia",
   "version": "1.11.1"
  }
 },
 "nbformat": 4,
 "nbformat_minor": 4
}
