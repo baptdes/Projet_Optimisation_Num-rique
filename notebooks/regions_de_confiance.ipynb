{
 "cells": [
  {
   "cell_type": "markdown",
   "metadata": {},
   "source": [
    "<center>\n",
    "<h1> TP-Projet d'optimisation numérique </h1>\n",
    "<h1> Algorithme des régions de confiance </h1>\n",
    "</center>"
   ]
  },
  {
   "cell_type": "markdown",
   "metadata": {},
   "source": [
    "# Régions de confiance avec Pas de Cauchy \n",
    "\n",
    "## Implémentation \n",
    "\n",
    "1. Coder l'algorithme du pas de Cauchy dans le fichier `src/cauchy.jl`). La spécification de cet algorithme est donnée dans le fichier.\n",
    "2. Ecrire des tests exhaustifs (qui testent tous les cas de figure possibles) pour votre algorithme du pas de Cauchy. Vous remplirez pour cela le fichier `test/tester_cauchy.jl` sur le modèle des autres fichiers de tests et vous exécuterez dans la cellule de code ci-après ces tests."
   ]
  },
  {
   "cell_type": "code",
   "execution_count": 11,
   "metadata": {},
   "outputs": [
    {
     "name": "stdout",
     "output_type": "stream",
     "text": [
      "\u001b[0m\u001b[1mTest Summary: | \u001b[22m\u001b[32m\u001b[1mPass  \u001b[22m\u001b[39m\u001b[36m\u001b[1mTotal  \u001b[22m\u001b[39m\u001b[0m\u001b[1mTime\u001b[22m\n",
      "Pas de Cauchy | \u001b[32m   5  \u001b[39m\u001b[36m    5  \u001b[39m\u001b[0m0.0s\n"
     ]
    }
   ],
   "source": [
    "include(\"../src/cauchy.jl\")         # votre algorithme\n",
    "include(\"../test/tester_cauchy.jl\") # la fonction pour tester votre algorithme\n",
    "\n",
    "#\n",
    "tester_cauchy(cauchy); # tester l'algorithme"
   ]
  },
  {
   "cell_type": "markdown",
   "metadata": {},
   "source": [
    "3. Coder l'algorithme des régions de confiance (fichier `src/regions_de_confiance.jl`). Sa spécification est donnée dans le fichier.\n",
    "4. Vérifier que les tests ci-dessous passent."
   ]
  },
  {
   "cell_type": "code",
   "execution_count": 8,
   "metadata": {},
   "outputs": [
    {
     "name": "stdout",
     "output_type": "stream",
     "text": [
      "Affichage des résultats des algorithmes : false\n",
      "\n",
      "\u001b[0m\u001b[1mTest Summary:        | \u001b[22m\u001b[32m\u001b[1mPass  \u001b[22m\u001b[39m\u001b[36m\u001b[1mTotal  \u001b[22m\u001b[39m\u001b[0m\u001b[1mTime\u001b[22m\n",
      "RC et pas de Cauchy  | \u001b[32m  15  \u001b[39m\u001b[36m   15  \u001b[39m\u001b[0m1.2s\n"
     ]
    }
   ],
   "source": [
    "include(\"../src/regions_de_confiance.jl\")\n",
    "include(\"../test/tester_rc_cauchy.jl\")\n",
    "\n",
    "#\n",
    "afficher = false # si true, alors affiche les résultats des algorithmes\n",
    "\n",
    "#\n",
    "tester_rc_cauchy(regions_de_confiance, afficher);"
   ]
  },
  {
   "cell_type": "markdown",
   "metadata": {},
   "source": [
    "## Interprétation \n",
    "\n",
    "<!-- Pour ces questions, des représentations graphiques sont attendues pour corroborer vos réponses. -->\n",
    "\n",
    "1. Soit la fonction $f_1 \\colon \\mathbb{R}^3 \\to \\mathbb{R}$ définie par\n",
    "$$ \n",
    "    f_1(x_1,x_2, x_3) = 2 (x_1 +x_2 + x_3 -3)^2 + (x_1-x_2)^2 + (x_2 - x_3)^2\n",
    "$$ \n",
    "Quelle relation lie la fonction $f_1$ et son modèle de Taylor à l’ordre 2 ? Comparer alors les performances de l'algorithme de Newton et celui des régions de confiance avec le pas de Cauchy sur cette fonction.\n",
    "\n",
    "2. Le rayon initial de la région de confiance est un paramètre important dans l’analyse\n",
    "de la performance de l’algorithme. Sur quel(s) autre(s) paramètre(s) peut-on jouer\n",
    "pour essayer d’améliorer cette performance ? Étudier l’influence d’au moins deux de\n",
    "ces paramètres. Pour cela vous ferez des tests numériques et donnerez les résultats sous forme de tableaux et de graphiques."
   ]
  },
  {
   "cell_type": "code",
   "execution_count": null,
   "metadata": {},
   "outputs": [
    {
     "ename": "MethodError",
     "evalue": "MethodError: no method matching regions_de_confiance(::typeof(fct1), ::typeof(grad_fct1), ::typeof(hess_fct1), ::Vector{Int64}, ::String)\nThe function `regions_de_confiance` exists, but no method is defined for this combination of argument types.\n\nClosest candidates are:\n  regions_de_confiance(::Function, ::Function, ::Function, ::Vector{<:Real}; max_iter, tol_abs, tol_rel, epsilon, Δ0, Δmax, γ1, γ2, η1, η2, algo_pas, max_iter_gct)\n   @ Main ~/Documents/N7/2A/Optimisation Numérique/Projet_Optimisation_Num-rique/src/regions_de_confiance.jl:55\n",
     "output_type": "error",
     "traceback": [
      "MethodError: no method matching regions_de_confiance(::typeof(fct1), ::typeof(grad_fct1), ::typeof(hess_fct1), ::Vector{Int64}, ::String)\n",
      "The function `regions_de_confiance` exists, but no method is defined for this combination of argument types.\n",
      "\n",
      "Closest candidates are:\n",
      "  regions_de_confiance(::Function, ::Function, ::Function, ::Vector{<:Real}; max_iter, tol_abs, tol_rel, epsilon, Δ0, Δmax, γ1, γ2, η1, η2, algo_pas, max_iter_gct)\n",
      "   @ Main ~/Documents/N7/2A/Optimisation Numérique/Projet_Optimisation_Num-rique/src/regions_de_confiance.jl:55\n",
      "\n",
      "\n",
      "Stacktrace:\n",
      " [1] top-level scope\n",
      "   @ ~/Documents/N7/2A/Optimisation Numérique/Projet_Optimisation_Num-rique/notebooks/jl_notebook_cell_df34fa98e69747e1a8f8a730347b8e2f_W6sZmlsZQ==.jl:21"
     ]
    }
   ],
   "source": [
    "# Expérimentations numériques à faire ici\n",
    "# Vous pouvez utiliser le package Plots pour les affichages de courbes: using Plots\n",
    "using Plots\n",
    "include(\"../test/fonctions_de_tests.jl\")\n",
    "include(\"../src/regions_de_confiance.jl\")\n",
    "include(\"../src/newton.jl\")\n",
    "\n",
    "# La fonction f1\n",
    "f1 = fct1\n",
    "grad_f1 = grad_fct1\n",
    "hess_f1 = hess_fct1\n",
    "\n",
    "# Points initiaux\n",
    "x0_newton = pts1.x011\n",
    "x0_rc = pts1.x011\n",
    "\n",
    "# Algo de Newton\n",
    "x_sol_newton, f_sol_newton, _, nb_iters_newton, _ = newton(f1, grad_f1, hess_f1, x0_newton)\n",
    "\n",
    "# Algo des régions de confiance\n",
    "x_sol_rc, f_sol_rc, _, nb_iters_rc, _ = regions_de_confiance(f1, grad_f1, hess_f1, x0_rc)\n",
    "\n",
    "# Afficher les résultats\n",
    "println(\"Algorithme de Newton:\")\n",
    "println(\"Solution trouvée: \", f_sol_newton)\n",
    "println(\"Nombre d'itérations: \", nb_iters_newton)\n",
    "\n",
    "println(\"\\nAlgorithme des régions de confiance avec pas de Cauchy:\")\n",
    "println(\"Solution trouvée: \", f_sol_rc)\n",
    "println(\"Nombre d'itérations: \", nb_iters_rc)"
   ]
  },
  {
   "cell_type": "markdown",
   "metadata": {},
   "source": [
    "# Régions de confiance avec gradient conjugué tronqué\n",
    "\n",
    "## Implémentation \n",
    "\n",
    "1. Implémenter l’algorithme du gradient conjugué tronqué (fichier `src/gct.jl`). Sa spécification est dans le fichier.\n",
    "2. Vérifier que les tests ci-dessous passent."
   ]
  },
  {
   "cell_type": "code",
   "execution_count": 1,
   "metadata": {},
   "outputs": [
    {
     "name": "stdout",
     "output_type": "stream",
     "text": [
      "Gradient conjugué tronqué: \u001b[91m\u001b[1mTest Failed\u001b[22m\u001b[39m at \u001b[39m\u001b[1m/home/nimdaba/Documents/N7/2A/Optimisation Numérique/Projet_Optimisation_Num-rique/test/tester_gct.jl:34\u001b[22m\n",
      "  Expression: ≈(s, (-Δ * g) / norm(g), atol = tol_test)\n",
      "   Evaluated: [0.0, 0.0] ≈ [-0.4743416490252569, -0.15811388300841897] (atol=0.001)\n",
      "\n",
      "Stacktrace:\n",
      " [1] \u001b[0m\u001b[1mmacro expansion\u001b[22m\n",
      "\u001b[90m   @\u001b[39m \u001b[90m~/.julia/juliaup/julia-1.11.1+0.x64.linux.gnu/share/julia/stdlib/v1.11/Test/src/\u001b[39m\u001b[90m\u001b[4mTest.jl:679\u001b[24m\u001b[39m\u001b[90m [inlined]\u001b[39m\n",
      " [2] \u001b[0m\u001b[1mmacro expansion\u001b[22m\n",
      "\u001b[90m   @\u001b[39m \u001b[90m~/Documents/N7/2A/Optimisation Numérique/Projet_Optimisation_Num-rique/test/\u001b[39m\u001b[90m\u001b[4mtester_gct.jl:34\u001b[24m\u001b[39m\u001b[90m [inlined]\u001b[39m\n",
      " [3] \u001b[0m\u001b[1mmacro expansion\u001b[22m\n",
      "\u001b[90m   @\u001b[39m \u001b[90m~/.julia/juliaup/julia-1.11.1+0.x64.linux.gnu/share/julia/stdlib/v1.11/Test/src/\u001b[39m\u001b[90m\u001b[4mTest.jl:1700\u001b[24m\u001b[39m\u001b[90m [inlined]\u001b[39m\n",
      " [4] \u001b[0m\u001b[1mtester_gct\u001b[22m\u001b[0m\u001b[1m(\u001b[22m\u001b[90mgct\u001b[39m::\u001b[0mtypeof(gct)\u001b[0m\u001b[1m)\u001b[22m\n",
      "\u001b[90m   @\u001b[39m \u001b[35mMain\u001b[39m \u001b[90m~/Documents/N7/2A/Optimisation Numérique/Projet_Optimisation_Num-rique/test/\u001b[39m\u001b[90m\u001b[4mtester_gct.jl:23\u001b[24m\u001b[39m\n",
      "Gradient conjugué tronqué: \u001b[91m\u001b[1mTest Failed\u001b[22m\u001b[39m at \u001b[39m\u001b[1m/home/nimdaba/Documents/N7/2A/Optimisation Numérique/Projet_Optimisation_Num-rique/test/tester_gct.jl:37\u001b[22m\n",
      "  Expression: ≈(s, [-0.8740776099190263, -0.8221850958502244], atol = tol_test)\n",
      "   Evaluated: [0.0, 0.0] ≈ [-0.8740776099190263, -0.8221850958502244] (atol=0.001)\n",
      "\n",
      "Stacktrace:\n",
      " [1] \u001b[0m\u001b[1mmacro expansion\u001b[22m\n",
      "\u001b[90m   @\u001b[39m \u001b[90m~/.julia/juliaup/julia-1.11.1+0.x64.linux.gnu/share/julia/stdlib/v1.11/Test/src/\u001b[39m\u001b[90m\u001b[4mTest.jl:679\u001b[24m\u001b[39m\u001b[90m [inlined]\u001b[39m\n",
      " [2] \u001b[0m\u001b[1mmacro expansion\u001b[22m\n",
      "\u001b[90m   @\u001b[39m \u001b[90m~/Documents/N7/2A/Optimisation Numérique/Projet_Optimisation_Num-rique/test/\u001b[39m\u001b[90m\u001b[4mtester_gct.jl:37\u001b[24m\u001b[39m\u001b[90m [inlined]\u001b[39m\n",
      " [3] \u001b[0m\u001b[1mmacro expansion\u001b[22m\n",
      "\u001b[90m   @\u001b[39m \u001b[90m~/.julia/juliaup/julia-1.11.1+0.x64.linux.gnu/share/julia/stdlib/v1.11/Test/src/\u001b[39m\u001b[90m\u001b[4mTest.jl:1700\u001b[24m\u001b[39m\u001b[90m [inlined]\u001b[39m\n",
      " [4] \u001b[0m\u001b[1mtester_gct\u001b[22m\u001b[0m\u001b[1m(\u001b[22m\u001b[90mgct\u001b[39m::\u001b[0mtypeof(gct)\u001b[0m\u001b[1m)\u001b[22m\n",
      "\u001b[90m   @\u001b[39m \u001b[35mMain\u001b[39m \u001b[90m~/Documents/N7/2A/Optimisation Numérique/Projet_Optimisation_Num-rique/test/\u001b[39m\u001b[90m\u001b[4mtester_gct.jl:23\u001b[24m\u001b[39m\n",
      "Gradient conjugué tronqué: \u001b[91m\u001b[1mTest Failed\u001b[22m\u001b[39m at \u001b[39m\u001b[1m/home/nimdaba/Documents/N7/2A/Optimisation Numérique/Projet_Optimisation_Num-rique/test/tester_gct.jl:40\u001b[22m\n",
      "  Expression: ≈(s, -H \\ g, atol = tol_test)\n",
      "   Evaluated: [0.0, 0.0] ≈ [-0.8571428571428571, -1.0] (atol=0.001)\n",
      "\n",
      "Stacktrace:\n",
      " [1] \u001b[0m\u001b[1mmacro expansion\u001b[22m\n",
      "\u001b[90m   @\u001b[39m \u001b[90m~/.julia/juliaup/julia-1.11.1+0.x64.linux.gnu/share/julia/stdlib/v1.11/Test/src/\u001b[39m\u001b[90m\u001b[4mTest.jl:679\u001b[24m\u001b[39m\u001b[90m [inlined]\u001b[39m\n",
      " [2] \u001b[0m\u001b[1mmacro expansion\u001b[22m\n",
      "\u001b[90m   @\u001b[39m \u001b[90m~/Documents/N7/2A/Optimisation Numérique/Projet_Optimisation_Num-rique/test/\u001b[39m\u001b[90m\u001b[4mtester_gct.jl:40\u001b[24m\u001b[39m\u001b[90m [inlined]\u001b[39m\n",
      " [3] \u001b[0m\u001b[1mmacro expansion\u001b[22m\n",
      "\u001b[90m   @\u001b[39m \u001b[90m~/.julia/juliaup/julia-1.11.1+0.x64.linux.gnu/share/julia/stdlib/v1.11/Test/src/\u001b[39m\u001b[90m\u001b[4mTest.jl:1700\u001b[24m\u001b[39m\u001b[90m [inlined]\u001b[39m\n",
      " [4] \u001b[0m\u001b[1mtester_gct\u001b[22m\u001b[0m\u001b[1m(\u001b[22m\u001b[90mgct\u001b[39m::\u001b[0mtypeof(gct)\u001b[0m\u001b[1m)\u001b[22m\n",
      "\u001b[90m   @\u001b[39m \u001b[35mMain\u001b[39m \u001b[90m~/Documents/N7/2A/Optimisation Numérique/Projet_Optimisation_Num-rique/test/\u001b[39m\u001b[90m\u001b[4mtester_gct.jl:23\u001b[24m\u001b[39m\n",
      "Gradient conjugué tronqué: \u001b[91m\u001b[1mTest Failed\u001b[22m\u001b[39m at \u001b[39m\u001b[1m/home/nimdaba/Documents/N7/2A/Optimisation Numérique/Projet_Optimisation_Num-rique/test/tester_gct.jl:47\u001b[22m\n",
      "  Expression: ≈(s, (-Δ * g) / norm(g), atol = tol_test)\n",
      "   Evaluated: [0.0, 0.0] ≈ [-0.4472135954999579, -0.8944271909999159] (atol=0.001)\n",
      "\n",
      "Stacktrace:\n",
      " [1] \u001b[0m\u001b[1mmacro expansion\u001b[22m\n",
      "\u001b[90m   @\u001b[39m \u001b[90m~/.julia/juliaup/julia-1.11.1+0.x64.linux.gnu/share/julia/stdlib/v1.11/Test/src/\u001b[39m\u001b[90m\u001b[4mTest.jl:679\u001b[24m\u001b[39m\u001b[90m [inlined]\u001b[39m\n",
      " [2] \u001b[0m\u001b[1mmacro expansion\u001b[22m\n",
      "\u001b[90m   @\u001b[39m \u001b[90m~/Documents/N7/2A/Optimisation Numérique/Projet_Optimisation_Num-rique/test/\u001b[39m\u001b[90m\u001b[4mtester_gct.jl:47\u001b[24m\u001b[39m\u001b[90m [inlined]\u001b[39m\n",
      " [3] \u001b[0m\u001b[1mmacro expansion\u001b[22m\n",
      "\u001b[90m   @\u001b[39m \u001b[90m~/.julia/juliaup/julia-1.11.1+0.x64.linux.gnu/share/julia/stdlib/v1.11/Test/src/\u001b[39m\u001b[90m\u001b[4mTest.jl:1700\u001b[24m\u001b[39m\u001b[90m [inlined]\u001b[39m\n",
      " [4] \u001b[0m\u001b[1mtester_gct\u001b[22m\u001b[0m\u001b[1m(\u001b[22m\u001b[90mgct\u001b[39m::\u001b[0mtypeof(gct)\u001b[0m\u001b[1m)\u001b[22m\n",
      "\u001b[90m   @\u001b[39m \u001b[35mMain\u001b[39m \u001b[90m~/Documents/N7/2A/Optimisation Numérique/Projet_Optimisation_Num-rique/test/\u001b[39m\u001b[90m\u001b[4mtester_gct.jl:23\u001b[24m\u001b[39m\n",
      "Gradient conjugué tronqué: \u001b[91m\u001b[1mTest Failed\u001b[22m\u001b[39m at \u001b[39m\u001b[1m/home/nimdaba/Documents/N7/2A/Optimisation Numérique/Projet_Optimisation_Num-rique/test/tester_gct.jl:51\u001b[22m\n",
      "  Expression: ≈(s, (-Δ * g) / norm(g), atol = tol_test)\n",
      "   Evaluated: [0.0, 0.0] ≈ [-0.5, -0.0] (atol=0.001)\n",
      "\n",
      "Stacktrace:\n",
      " [1] \u001b[0m\u001b[1mmacro expansion\u001b[22m\n",
      "\u001b[90m   @\u001b[39m \u001b[90m~/.julia/juliaup/julia-1.11.1+0.x64.linux.gnu/share/julia/stdlib/v1.11/Test/src/\u001b[39m\u001b[90m\u001b[4mTest.jl:679\u001b[24m\u001b[39m\u001b[90m [inlined]\u001b[39m\n",
      " [2] \u001b[0m\u001b[1mmacro expansion\u001b[22m\n",
      "\u001b[90m   @\u001b[39m \u001b[90m~/Documents/N7/2A/Optimisation Numérique/Projet_Optimisation_Num-rique/test/\u001b[39m\u001b[90m\u001b[4mtester_gct.jl:51\u001b[24m\u001b[39m\u001b[90m [inlined]\u001b[39m\n",
      " [3] \u001b[0m\u001b[1mmacro expansion\u001b[22m\n",
      "\u001b[90m   @\u001b[39m \u001b[90m~/.julia/juliaup/julia-1.11.1+0.x64.linux.gnu/share/julia/stdlib/v1.11/Test/src/\u001b[39m\u001b[90m\u001b[4mTest.jl:1700\u001b[24m\u001b[39m\u001b[90m [inlined]\u001b[39m\n",
      " [4] \u001b[0m\u001b[1mtester_gct\u001b[22m\u001b[0m\u001b[1m(\u001b[22m\u001b[90mgct\u001b[39m::\u001b[0mtypeof(gct)\u001b[0m\u001b[1m)\u001b[22m\n",
      "\u001b[90m   @\u001b[39m \u001b[35mMain\u001b[39m \u001b[90m~/Documents/N7/2A/Optimisation Numérique/Projet_Optimisation_Num-rique/test/\u001b[39m\u001b[90m\u001b[4mtester_gct.jl:23\u001b[24m\u001b[39m\n",
      "Gradient conjugué tronqué: \u001b[91m\u001b[1mTest Failed\u001b[22m\u001b[39m at \u001b[39m\u001b[1m/home/nimdaba/Documents/N7/2A/Optimisation Numérique/Projet_Optimisation_Num-rique/test/tester_gct.jl:55\u001b[22m\n",
      "  Expression: isapprox(s, [0.48997991959774634, 5.979959839195494], atol = tol_test) || isapprox(s, [-4.489979919597747, -3.979959839195493], atol = tol_test)\n",
      "\n",
      "Stacktrace:\n",
      " [1] \u001b[0m\u001b[1mmacro expansion\u001b[22m\n",
      "\u001b[90m   @\u001b[39m \u001b[90m~/.julia/juliaup/julia-1.11.1+0.x64.linux.gnu/share/julia/stdlib/v1.11/Test/src/\u001b[39m\u001b[90m\u001b[4mTest.jl:679\u001b[24m\u001b[39m\u001b[90m [inlined]\u001b[39m\n",
      " [2] \u001b[0m\u001b[1mmacro expansion\u001b[22m\n",
      "\u001b[90m   @\u001b[39m \u001b[90m~/Documents/N7/2A/Optimisation Numérique/Projet_Optimisation_Num-rique/test/\u001b[39m\u001b[90m\u001b[4mtester_gct.jl:55\u001b[24m\u001b[39m\u001b[90m [inlined]\u001b[39m\n",
      " [3] \u001b[0m\u001b[1mmacro expansion\u001b[22m\n",
      "\u001b[90m   @\u001b[39m \u001b[90m~/.julia/juliaup/julia-1.11.1+0.x64.linux.gnu/share/julia/stdlib/v1.11/Test/src/\u001b[39m\u001b[90m\u001b[4mTest.jl:1700\u001b[24m\u001b[39m\u001b[90m [inlined]\u001b[39m\n",
      " [4] \u001b[0m\u001b[1mtester_gct\u001b[22m\u001b[0m\u001b[1m(\u001b[22m\u001b[90mgct\u001b[39m::\u001b[0mtypeof(gct)\u001b[0m\u001b[1m)\u001b[22m\n",
      "\u001b[90m   @\u001b[39m \u001b[35mMain\u001b[39m \u001b[90m~/Documents/N7/2A/Optimisation Numérique/Projet_Optimisation_Num-rique/test/\u001b[39m\u001b[90m\u001b[4mtester_gct.jl:23\u001b[24m\u001b[39m\n",
      "Gradient conjugué tronqué: \u001b[91m\u001b[1mTest Failed\u001b[22m\u001b[39m at \u001b[39m\u001b[1m/home/nimdaba/Documents/N7/2A/Optimisation Numérique/Projet_Optimisation_Num-rique/test/tester_gct.jl:62\u001b[22m\n",
      "  Expression: ≈(s, [1.9059020876695578; -2.3167946029410595], atol = tol_test)\n",
      "   Evaluated: [0.0, 0.0] ≈ [1.9059020876695578, -2.3167946029410595] (atol=0.001)\n",
      "\n",
      "Stacktrace:\n",
      " [1] \u001b[0m\u001b[1mmacro expansion\u001b[22m\n",
      "\u001b[90m   @\u001b[39m \u001b[90m~/.julia/juliaup/julia-1.11.1+0.x64.linux.gnu/share/julia/stdlib/v1.11/Test/src/\u001b[39m\u001b[90m\u001b[4mTest.jl:679\u001b[24m\u001b[39m\u001b[90m [inlined]\u001b[39m\n",
      " [2] \u001b[0m\u001b[1mmacro expansion\u001b[22m\n",
      "\u001b[90m   @\u001b[39m \u001b[90m~/Documents/N7/2A/Optimisation Numérique/Projet_Optimisation_Num-rique/test/\u001b[39m\u001b[90m\u001b[4mtester_gct.jl:62\u001b[24m\u001b[39m\u001b[90m [inlined]\u001b[39m\n",
      " [3] \u001b[0m\u001b[1mmacro expansion\u001b[22m\n",
      "\u001b[90m   @\u001b[39m \u001b[90m~/.julia/juliaup/julia-1.11.1+0.x64.linux.gnu/share/julia/stdlib/v1.11/Test/src/\u001b[39m\u001b[90m\u001b[4mTest.jl:1700\u001b[24m\u001b[39m\u001b[90m [inlined]\u001b[39m\n",
      " [4] \u001b[0m\u001b[1mtester_gct\u001b[22m\u001b[0m\u001b[1m(\u001b[22m\u001b[90mgct\u001b[39m::\u001b[0mtypeof(gct)\u001b[0m\u001b[1m)\u001b[22m\n",
      "\u001b[90m   @\u001b[39m \u001b[35mMain\u001b[39m \u001b[90m~/Documents/N7/2A/Optimisation Numérique/Projet_Optimisation_Num-rique/test/\u001b[39m\u001b[90m\u001b[4mtester_gct.jl:23\u001b[24m\u001b[39m\n",
      "Gradient conjugué tronqué: \u001b[91m\u001b[1mTest Failed\u001b[22m\u001b[39m at \u001b[39m\u001b[1m/home/nimdaba/Documents/N7/2A/Optimisation Numérique/Projet_Optimisation_Num-rique/test/tester_gct.jl:70\u001b[22m\n",
      "  Expression: ≈(s, [-0.5; 0.0], atol = tol_test)\n",
      "   Evaluated: [0.0, 0.0] ≈ [-0.5, 0.0] (atol=0.001)\n",
      "\n",
      "Stacktrace:\n",
      " [1] \u001b[0m\u001b[1mmacro expansion\u001b[22m\n",
      "\u001b[90m   @\u001b[39m \u001b[90m~/.julia/juliaup/julia-1.11.1+0.x64.linux.gnu/share/julia/stdlib/v1.11/Test/src/\u001b[39m\u001b[90m\u001b[4mTest.jl:679\u001b[24m\u001b[39m\u001b[90m [inlined]\u001b[39m\n",
      " [2] \u001b[0m\u001b[1mmacro expansion\u001b[22m\n",
      "\u001b[90m   @\u001b[39m \u001b[90m~/Documents/N7/2A/Optimisation Numérique/Projet_Optimisation_Num-rique/test/\u001b[39m\u001b[90m\u001b[4mtester_gct.jl:70\u001b[24m\u001b[39m\u001b[90m [inlined]\u001b[39m\n",
      " [3] \u001b[0m\u001b[1mmacro expansion\u001b[22m\n",
      "\u001b[90m   @\u001b[39m \u001b[90m~/.julia/juliaup/julia-1.11.1+0.x64.linux.gnu/share/julia/stdlib/v1.11/Test/src/\u001b[39m\u001b[90m\u001b[4mTest.jl:1700\u001b[24m\u001b[39m\u001b[90m [inlined]\u001b[39m\n",
      " [4] \u001b[0m\u001b[1mtester_gct\u001b[22m\u001b[0m\u001b[1m(\u001b[22m\u001b[90mgct\u001b[39m::\u001b[0mtypeof(gct)\u001b[0m\u001b[1m)\u001b[22m\n",
      "\u001b[90m   @\u001b[39m \u001b[35mMain\u001b[39m \u001b[90m~/Documents/N7/2A/Optimisation Numérique/Projet_Optimisation_Num-rique/test/\u001b[39m\u001b[90m\u001b[4mtester_gct.jl:23\u001b[24m\u001b[39m\n",
      "\u001b[0m\u001b[1mTest Summary:             | \u001b[22m\u001b[32m\u001b[1mPass  \u001b[22m\u001b[39m\u001b[91m\u001b[1mFail  \u001b[22m\u001b[39m\u001b[36m\u001b[1mTotal  \u001b[22m\u001b[39m\u001b[0m\u001b[1mTime\u001b[22m\n",
      "Gradient conjugué tronqué | \u001b[32m   1  \u001b[39m\u001b[91m   8  \u001b[39m\u001b[36m    9  \u001b[39m\u001b[0m3.2s\n"
     ]
    },
    {
     "ename": "TestSetException",
     "evalue": "Some tests did not pass: 1 passed, 8 failed, 0 errored, 0 broken.",
     "output_type": "error",
     "traceback": [
      "Some tests did not pass: 1 passed, 8 failed, 0 errored, 0 broken.\n",
      "\n",
      "Stacktrace:\n",
      " [1] finish(ts::Test.DefaultTestSet; print_results::Bool)\n",
      "   @ Test ~/.julia/juliaup/julia-1.11.1+0.x64.linux.gnu/share/julia/stdlib/v1.11/Test/src/Test.jl:1254\n",
      " [2] finish\n",
      "   @ ~/.julia/juliaup/julia-1.11.1+0.x64.linux.gnu/share/julia/stdlib/v1.11/Test/src/Test.jl:1229 [inlined]\n",
      " [3] macro expansion\n",
      "   @ ~/.julia/juliaup/julia-1.11.1+0.x64.linux.gnu/share/julia/stdlib/v1.11/Test/src/Test.jl:1716 [inlined]\n",
      " [4] tester_gct(gct::typeof(gct))\n",
      "   @ Main ~/Documents/N7/2A/Optimisation Numérique/Projet_Optimisation_Num-rique/test/tester_gct.jl:23\n",
      " [5] top-level scope\n",
      "   @ ~/Documents/N7/2A/Optimisation Numérique/Projet_Optimisation_Num-rique/notebooks/jl_notebook_cell_df34fa98e69747e1a8f8a730347b8e2f_X11sZmlsZQ==.jl:2"
     ]
    }
   ],
   "source": [
    "include(\"../src/gct.jl\")\n",
    "include(\"../test/tester_gct.jl\")\n",
    "\n",
    "#\n",
    "tester_gct(gct);"
   ]
  },
  {
   "cell_type": "markdown",
   "metadata": {},
   "source": [
    "3. Intégrer l’algorithme du gradient conjugué tronqué dans le code des régions de confiance.\n",
    "4. Vérifier que les tests ci-dessous passent."
   ]
  },
  {
   "cell_type": "code",
   "execution_count": null,
   "metadata": {},
   "outputs": [],
   "source": [
    "include(\"../src/regions_de_confiance.jl\")\n",
    "include(\"../test/tester_rc_gct.jl\")\n",
    "\n",
    "#\n",
    "afficher = false # si true, alors affiche les résultats des algorithmes\n",
    "\n",
    "#\n",
    "tester_rc_gct(regions_de_confiance, afficher);"
   ]
  },
  {
   "attachments": {},
   "cell_type": "markdown",
   "metadata": {},
   "source": [
    "## Interprétation  \n",
    "\n",
    "Nous proposons de comparer l'utilisation du pas de Cauchy avec celle du gradient conjugué tronqué dans l'algorithme des régions de confiance.\n",
    "\n",
    "**Remarques.**\n",
    "* Nous vous demandons de réaliser des expérimentations numériques pour les comparaisons demandées ci-après.\n",
    "* Vous devez utiliser l'argument optionnel `max_iter_gct` et la sortie `xs` de l'algorithme des régions de confiance.\n",
    "* Vous pouvez comparer l'écart en norme entre les itérés de l'algorithme et la solution du problème.\n",
    "* Vous trouverez des choses utiles dans le fichier `test/fonctions_de_tests.jl`.\n",
    "\n",
    "1. Comparer dans le cas où l'on force le gradient conjugué tronqué à ne faire qu'une seule itération. Que remarquez vous ?\n",
    "2. Comparer dans le cas général. Que remarquez vous ?\n",
    "3. Quels sont les avantages et inconvénients des deux approches ?"
   ]
  },
  {
   "cell_type": "code",
   "execution_count": null,
   "metadata": {},
   "outputs": [],
   "source": [
    "# Expérimentations numériques à faire ici.\n",
    "# Vous pouvez utiliser le package Plots pour les affichages de courbes: using Plots"
   ]
  }
 ],
 "metadata": {
  "kernelspec": {
   "display_name": "Julia 1.11.1",
   "language": "julia",
   "name": "julia-1.11"
  },
  "language_info": {
   "file_extension": ".jl",
   "mimetype": "application/julia",
   "name": "julia",
   "version": "1.11.1"
  }
 },
 "nbformat": 4,
 "nbformat_minor": 4
}
